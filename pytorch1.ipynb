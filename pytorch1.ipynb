{
 "cells": [
  {
   "cell_type": "code",
   "execution_count": 134,
   "id": "ceaa3f91",
   "metadata": {},
   "outputs": [],
   "source": [
    "import numpy as np \n",
    "import pandas as pd\n",
    "\n",
    "path='phi_070.csv'\n",
    "# path='iris.csv'\n",
    "df = pd.read_csv(path)"
   ]
  },
  {
   "cell_type": "code",
   "execution_count": 135,
   "id": "5efe65bb",
   "metadata": {},
   "outputs": [],
   "source": [
    "import seaborn as sns\n",
    "import matplotlib.pyplot as plt\n",
    "import torch\n",
    "import torch.nn.functional as F\n",
    "import torch.nn as nn\n",
    "from torch.autograd import Variable\n",
    "from sklearn import preprocessing\n",
    "from sklearn.model_selection import train_test_split\n",
    "from sklearn.preprocessing import StandardScaler\n",
    "from sklearn.metrics import precision_score, recall_score, f1_score, accuracy_score"
   ]
  },
  {
   "cell_type": "code",
   "execution_count": 136,
   "id": "7f852578",
   "metadata": {},
   "outputs": [],
   "source": [
    "x = df[['mean(nid)' ,'Median(nid)','IQR(nid)','Range(nid)']]\n",
    "# x=df[['sepal.length','sepal.width','petal.length','petal.width']]"
   ]
  },
  {
   "cell_type": "code",
   "execution_count": 137,
   "id": "c4aabc23",
   "metadata": {},
   "outputs": [
    {
     "data": {
      "text/html": [
       "<div>\n",
       "<style scoped>\n",
       "    .dataframe tbody tr th:only-of-type {\n",
       "        vertical-align: middle;\n",
       "    }\n",
       "\n",
       "    .dataframe tbody tr th {\n",
       "        vertical-align: top;\n",
       "    }\n",
       "\n",
       "    .dataframe thead th {\n",
       "        text-align: right;\n",
       "    }\n",
       "</style>\n",
       "<table border=\"1\" class=\"dataframe\">\n",
       "  <thead>\n",
       "    <tr style=\"text-align: right;\">\n",
       "      <th></th>\n",
       "      <th>mean(nid)</th>\n",
       "      <th>Median(nid)</th>\n",
       "      <th>IQR(nid)</th>\n",
       "      <th>Range(nid)</th>\n",
       "    </tr>\n",
       "  </thead>\n",
       "  <tbody>\n",
       "    <tr>\n",
       "      <th>0</th>\n",
       "      <td>-0.008293</td>\n",
       "      <td>-0.007804</td>\n",
       "      <td>0.059107</td>\n",
       "      <td>0.623557</td>\n",
       "    </tr>\n",
       "    <tr>\n",
       "      <th>1</th>\n",
       "      <td>-0.027038</td>\n",
       "      <td>-0.024809</td>\n",
       "      <td>0.083121</td>\n",
       "      <td>0.741234</td>\n",
       "    </tr>\n",
       "    <tr>\n",
       "      <th>2</th>\n",
       "      <td>-0.010665</td>\n",
       "      <td>-0.009881</td>\n",
       "      <td>0.063987</td>\n",
       "      <td>0.640409</td>\n",
       "    </tr>\n",
       "    <tr>\n",
       "      <th>3</th>\n",
       "      <td>-0.029888</td>\n",
       "      <td>-0.027418</td>\n",
       "      <td>0.085638</td>\n",
       "      <td>0.743484</td>\n",
       "    </tr>\n",
       "    <tr>\n",
       "      <th>4</th>\n",
       "      <td>-0.014029</td>\n",
       "      <td>-0.012977</td>\n",
       "      <td>0.069194</td>\n",
       "      <td>0.663985</td>\n",
       "    </tr>\n",
       "    <tr>\n",
       "      <th>...</th>\n",
       "      <td>...</td>\n",
       "      <td>...</td>\n",
       "      <td>...</td>\n",
       "      <td>...</td>\n",
       "    </tr>\n",
       "    <tr>\n",
       "      <th>595</th>\n",
       "      <td>-0.420932</td>\n",
       "      <td>-0.443914</td>\n",
       "      <td>0.155718</td>\n",
       "      <td>1.451266</td>\n",
       "    </tr>\n",
       "    <tr>\n",
       "      <th>596</th>\n",
       "      <td>-0.410942</td>\n",
       "      <td>-0.435468</td>\n",
       "      <td>0.161798</td>\n",
       "      <td>1.477821</td>\n",
       "    </tr>\n",
       "    <tr>\n",
       "      <th>597</th>\n",
       "      <td>-0.424596</td>\n",
       "      <td>-0.447165</td>\n",
       "      <td>0.153308</td>\n",
       "      <td>1.456235</td>\n",
       "    </tr>\n",
       "    <tr>\n",
       "      <th>598</th>\n",
       "      <td>-0.426979</td>\n",
       "      <td>-0.448809</td>\n",
       "      <td>0.150175</td>\n",
       "      <td>1.425861</td>\n",
       "    </tr>\n",
       "    <tr>\n",
       "      <th>599</th>\n",
       "      <td>-0.426380</td>\n",
       "      <td>-0.448800</td>\n",
       "      <td>0.152521</td>\n",
       "      <td>1.432455</td>\n",
       "    </tr>\n",
       "  </tbody>\n",
       "</table>\n",
       "<p>600 rows × 4 columns</p>\n",
       "</div>"
      ],
      "text/plain": [
       "     mean(nid)  Median(nid)  IQR(nid)  Range(nid)\n",
       "0    -0.008293    -0.007804  0.059107    0.623557\n",
       "1    -0.027038    -0.024809  0.083121    0.741234\n",
       "2    -0.010665    -0.009881  0.063987    0.640409\n",
       "3    -0.029888    -0.027418  0.085638    0.743484\n",
       "4    -0.014029    -0.012977  0.069194    0.663985\n",
       "..         ...          ...       ...         ...\n",
       "595  -0.420932    -0.443914  0.155718    1.451266\n",
       "596  -0.410942    -0.435468  0.161798    1.477821\n",
       "597  -0.424596    -0.447165  0.153308    1.456235\n",
       "598  -0.426979    -0.448809  0.150175    1.425861\n",
       "599  -0.426380    -0.448800  0.152521    1.432455\n",
       "\n",
       "[600 rows x 4 columns]"
      ]
     },
     "execution_count": 137,
     "metadata": {},
     "output_type": "execute_result"
    }
   ],
   "source": [
    "x"
   ]
  },
  {
   "cell_type": "code",
   "execution_count": 138,
   "id": "7ce18c26",
   "metadata": {},
   "outputs": [],
   "source": [
    "le = preprocessing.LabelEncoder()\n",
    "df['label'] = le.fit_transform(df.polymer.values)\n",
    "y= df['label'].values"
   ]
  },
  {
   "cell_type": "code",
   "execution_count": 139,
   "id": "912508e4",
   "metadata": {},
   "outputs": [],
   "source": [
    "# df['polymer'] = le.fit_transform(df[\"polymer\"])\n",
    "# y= df['polymer']"
   ]
  },
  {
   "cell_type": "code",
   "execution_count": 140,
   "id": "f5d34159",
   "metadata": {},
   "outputs": [
    {
     "name": "stdout",
     "output_type": "stream",
     "text": [
      "[ 0  0  0  0  0  0  0  0  0  0  0  0  0  0  0  0  0  0  0  0  0  0  0  0\n",
      "  0  0  0  0  0  0  0  0  0  0  0  0  0  0  0  0  0  0  0  0  0  0  0  0\n",
      "  0  0  1  1  1  1  1  1  1  1  1  1  1  1  1  1  1  1  1  1  1  1  1  1\n",
      "  1  1  1  1  1  1  1  1  1  1  1  1  1  1  1  1  1  1  1  1  1  1  1  1\n",
      "  1  1  1  1  2  2  2  2  2  2  2  2  2  2  2  2  2  2  2  2  2  2  2  2\n",
      "  2  2  2  2  2  2  2  2  2  2  2  2  2  2  2  2  2  2  2  2  2  2  2  2\n",
      "  2  2  2  2  2  2  3  3  3  3  3  3  3  3  3  3  3  3  3  3  3  3  3  3\n",
      "  3  3  3  3  3  3  3  3  3  3  3  3  3  3  3  3  3  3  3  3  3  3  3  3\n",
      "  3  3  3  3  3  3  3  3  4  4  4  4  4  4  4  4  4  4  4  4  4  4  4  4\n",
      "  4  4  4  4  4  4  4  4  4  4  4  4  4  4  4  4  4  4  4  4  4  4  4  4\n",
      "  4  4  4  4  4  4  4  4  4  4  5  5  5  5  5  5  5  5  5  5  5  5  5  5\n",
      "  5  5  5  5  5  5  5  5  5  5  5  5  5  5  5  5  5  5  5  5  5  5  5  5\n",
      "  5  5  5  5  5  5  5  5  5  5  5  5  6  6  6  6  6  6  6  6  6  6  6  6\n",
      "  6  6  6  6  6  6  6  6  6  6  6  6  6  6  6  6  6  6  6  6  6  6  6  6\n",
      "  6  6  6  6  6  6  6  6  6  6  6  6  6  6  7  7  7  7  7  7  7  7  7  7\n",
      "  7  7  7  7  7  7  7  7  7  7  7  7  7  7  7  7  7  7  7  7  7  7  7  7\n",
      "  7  7  7  7  7  7  7  7  7  7  7  7  7  7  7  7  8  8  8  8  8  8  8  8\n",
      "  8  8  8  8  8  8  8  8  8  8  8  8  8  8  8  8  8  8  8  8  8  8  8  8\n",
      "  8  8  8  8  8  8  8  8  8  8  8  8  8  8  8  8  8  8  9  9  9  9  9  9\n",
      "  9  9  9  9  9  9  9  9  9  9  9  9  9  9  9  9  9  9  9  9  9  9  9  9\n",
      "  9  9  9  9  9  9  9  9  9  9  9  9  9  9  9  9  9  9  9  9 10 10 10 10\n",
      " 10 10 10 10 10 10 10 10 10 10 10 10 10 10 10 10 10 10 10 10 10 10 10 10\n",
      " 10 10 10 10 10 10 10 10 10 10 10 10 10 10 10 10 10 10 10 10 10 10 11 11\n",
      " 11 11 11 11 11 11 11 11 11 11 11 11 11 11 11 11 11 11 11 11 11 11 11 11\n",
      " 11 11 11 11 11 11 11 11 11 11 11 11 11 11 11 11 11 11 11 11 11 11 11 11]\n"
     ]
    }
   ],
   "source": [
    "print(y)"
   ]
  },
  {
   "cell_type": "code",
   "execution_count": 141,
   "id": "e6acac09",
   "metadata": {},
   "outputs": [],
   "source": [
    "x_train, x_test, y_train, y_test = train_test_split(x,y, test_size = 0.20)\n",
    "scaler = StandardScaler()\n",
    "x_train=scaler.fit_transform(x_train)\n",
    "x_test = scaler.transform(x_test)"
   ]
  },
  {
   "cell_type": "code",
   "execution_count": 142,
   "id": "baa74ac0",
   "metadata": {},
   "outputs": [],
   "source": [
    "x_train = Variable(torch.from_numpy(x_train)).float()\n",
    "y_train = torch.LongTensor(y_train)\n",
    "x_test  = Variable(torch.from_numpy(x_test)).float()\n",
    "y_test  = torch.LongTensor(y_test)\n"
   ]
  },
  {
   "cell_type": "code",
   "execution_count": 143,
   "id": "b9fa66bf",
   "metadata": {},
   "outputs": [
    {
     "name": "stdout",
     "output_type": "stream",
     "text": [
      "X_Train Shape:  torch.Size([480, 4])\n",
      "X_Test Shape:  torch.Size([120, 4])\n",
      "Y_Train Shape:  torch.Size([480])\n",
      "Y_Test Shape:  torch.Size([120])\n"
     ]
    }
   ],
   "source": [
    "print(\"X_Train Shape: \", x_train.shape)\n",
    "print(\"X_Test Shape: \", x_test.shape)\n",
    "print(\"Y_Train Shape: \", y_train.shape)\n",
    "print(\"Y_Test Shape: \", y_test.shape)"
   ]
  },
  {
   "cell_type": "code",
   "execution_count": 144,
   "id": "af43c983",
   "metadata": {},
   "outputs": [],
   "source": [
    "class FeedForwardNN(nn.Module):\n",
    "    def __init__(self, input_dim,hidden,out):\n",
    "        super(FeedForwardNN,self).__init__()\n",
    "        self.relu=nn.ReLU()\n",
    "        self.layer1 = nn.Linear(input_dim, hidden)\n",
    "        self.layer2 = nn.Linear(hidden,hidden)\n",
    "        self.layer3 = nn.Linear(hidden,out)\n",
    "        \n",
    "    def forward(self,x): \n",
    "        x = self.relu(self.layer1(x))\n",
    "        x = self.relu(self.layer2(x))\n",
    "        x= self.relu(self.layer3(x))\n",
    "        return x"
   ]
  },
  {
   "cell_type": "code",
   "execution_count": 145,
   "id": "abcbff77",
   "metadata": {},
   "outputs": [],
   "source": [
    "ffn = FeedForwardNN(input_dim = x_train.shape[1],hidden = 25,out=12)\n",
    "optimizer = torch.optim.Adam(ffn.parameters(), lr=0.001)\n",
    "loss_fn   = nn.CrossEntropyLoss()"
   ]
  },
  {
   "cell_type": "code",
   "execution_count": 146,
   "id": "b101e38b",
   "metadata": {},
   "outputs": [
    {
     "name": "stdout",
     "output_type": "stream",
     "text": [
      "Epoch 25/1000, Train Loss: 2.402, Test Loss: 2.392\n",
      "Epoch 50/1000, Train Loss: 2.319, Test Loss: 2.308\n",
      "Epoch 75/1000, Train Loss: 2.236, Test Loss: 2.229\n",
      "Epoch 100/1000, Train Loss: 2.168, Test Loss: 2.173\n",
      "Epoch 125/1000, Train Loss: 2.113, Test Loss: 2.121\n",
      "Epoch 150/1000, Train Loss: 2.069, Test Loss: 2.073\n",
      "Epoch 175/1000, Train Loss: 2.031, Test Loss: 2.036\n",
      "Epoch 200/1000, Train Loss: 1.997, Test Loss: 2.006\n",
      "Epoch 225/1000, Train Loss: 1.965, Test Loss: 1.978\n",
      "Epoch 250/1000, Train Loss: 1.935, Test Loss: 1.954\n",
      "Epoch 275/1000, Train Loss: 1.907, Test Loss: 1.931\n",
      "Epoch 300/1000, Train Loss: 1.880, Test Loss: 1.905\n",
      "Epoch 325/1000, Train Loss: 1.854, Test Loss: 1.879\n",
      "Epoch 350/1000, Train Loss: 1.829, Test Loss: 1.854\n",
      "Epoch 375/1000, Train Loss: 1.804, Test Loss: 1.828\n",
      "Epoch 400/1000, Train Loss: 1.780, Test Loss: 1.802\n",
      "Epoch 425/1000, Train Loss: 1.758, Test Loss: 1.775\n",
      "Epoch 450/1000, Train Loss: 1.738, Test Loss: 1.751\n",
      "Epoch 475/1000, Train Loss: 1.722, Test Loss: 1.731\n",
      "Epoch 500/1000, Train Loss: 1.708, Test Loss: 1.713\n",
      "Epoch 525/1000, Train Loss: 1.695, Test Loss: 1.696\n",
      "Epoch 550/1000, Train Loss: 1.683, Test Loss: 1.680\n",
      "Epoch 575/1000, Train Loss: 1.673, Test Loss: 1.667\n",
      "Epoch 600/1000, Train Loss: 1.664, Test Loss: 1.656\n",
      "Epoch 625/1000, Train Loss: 1.656, Test Loss: 1.646\n",
      "Epoch 650/1000, Train Loss: 1.649, Test Loss: 1.639\n",
      "Epoch 675/1000, Train Loss: 1.642, Test Loss: 1.630\n",
      "Epoch 700/1000, Train Loss: 1.636, Test Loss: 1.621\n",
      "Epoch 725/1000, Train Loss: 1.631, Test Loss: 1.614\n",
      "Epoch 750/1000, Train Loss: 1.626, Test Loss: 1.607\n",
      "Epoch 775/1000, Train Loss: 1.621, Test Loss: 1.601\n",
      "Epoch 800/1000, Train Loss: 1.617, Test Loss: 1.594\n",
      "Epoch 825/1000, Train Loss: 1.612, Test Loss: 1.588\n",
      "Epoch 850/1000, Train Loss: 1.609, Test Loss: 1.582\n",
      "Epoch 875/1000, Train Loss: 1.605, Test Loss: 1.577\n",
      "Epoch 900/1000, Train Loss: 1.601, Test Loss: 1.572\n",
      "Epoch 925/1000, Train Loss: 1.598, Test Loss: 1.568\n",
      "Epoch 950/1000, Train Loss: 1.595, Test Loss: 1.564\n",
      "Epoch 975/1000, Train Loss: 1.592, Test Loss: 1.561\n",
      "Epoch 1000/1000, Train Loss: 1.589, Test Loss: 1.557\n"
     ]
    }
   ],
   "source": [
    "epochs = 1000\n",
    "train_losses =np.zeros(epochs)\n",
    "test_losses = np.zeros(epochs)\n",
    "\n",
    "for epoch in range(epochs):\n",
    "    y_pred = ffn(x_train)\n",
    "    loss_train = loss_fn(y_pred,y_train)\n",
    "    optimizer.zero_grad()\n",
    "    loss_train.backward()\n",
    "    optimizer.step()\n",
    "    \n",
    "    y_pred_test = ffn(x_test)\n",
    "    loss_test = loss_fn(y_pred_test,y_test)\n",
    "    train_losses[epoch] = loss_train.item()\n",
    "    test_losses[epoch] = loss_test.item()\n",
    "\n",
    "    \n",
    "    if (epoch + 1) % 25 == 0:\n",
    "            print(f\"Epoch {epoch+1}/{epochs}, Train Loss: {loss_train.item():.3f}, Test Loss: {loss_test.item():.3f}\")"
   ]
  },
  {
   "cell_type": "code",
   "execution_count": 150,
   "id": "c7ddd330",
   "metadata": {},
   "outputs": [
    {
     "data": {
      "image/png": "[encoded data removed]",
      "text/plain": [
       "<Figure size 1000x500 with 1 Axes>"
      ]
     },
     "metadata": {},
     "output_type": "display_data"
    }
   ],
   "source": [
    "fig, ax = plt.subplots(1, 1, figsize=(10, 5))\n",
    "sns.lineplot(data = train_losses,palette='viridis',label='Training set Loss')\n",
    "sns.lineplot(data = test_losses,palette='viridis',label='Test set Loss')\n",
    "plt.legend()\n",
    "plt.show()"
   ]
  },
  {
   "cell_type": "code",
   "execution_count": 151,
   "id": "22197627",
   "metadata": {},
   "outputs": [],
   "source": [
    "# def performance_measurment(cm):\n",
    "   \n",
    "#     FP = cm.sum(axis=1) - np.diag(cm) #FP-False Positive \n",
    "#     FN = cm.sum(axis=0) - np.diag(cm) #FN-False Negatives\n",
    "#     TP = np.diag(cm)                  #TP-True Positive\n",
    "#     TN = cm.sum() - (FP + FN + TP)    #TN-True Negatives\n",
    "\n",
    "#     FP = FP.astype(float)\n",
    "#     FN = FN.astype(float)\n",
    "#     TP = TP.astype(float)\n",
    "#     TN = TN.astype(float)\n",
    "\n",
    "#     ACC1 = np.round((TP+TN)/(TP+FP+FN+TN),decimals=2) #Accuracy\n",
    "#     precision1 = np.round((TP / (TP + FP)),decimals=2) #Precision\n",
    "#     recall1 = np.round((TP / (TP + FN)),decimals=2)   #Recall\n",
    "#     F1_SCORE1 = np.round((2*recall1*precision1)/(recall1+precision1),decimals=2) #F1-Score\n",
    "\n",
    "    \n",
    "#     return ACC1, precision1, recall1, F1_SCORE1"
   ]
  },
  {
   "cell_type": "code",
   "execution_count": 152,
   "id": "c5999ec2",
   "metadata": {},
   "outputs": [],
   "source": [
    "# precision=round(precision_score(y_test, y_pred,average='weighted'),2)\n",
    "# recall=round(recall_score(y_test, y_pred,average='weighted'),2)\n",
    "# accuracy=round(accuracy_score(y_test, y_pred),2)\n",
    "# F1_SCORE=round(f1_score(y_test, y_pred,average='weighted'),2)\n",
    "\n",
    "# cm = confusion_matrix(y_pred, y_test)\n",
    "\n",
    "# ACC1, precision1, recall1, F1_SCORE1 = performance_measurment(cm)\n",
    "# degrees = 35\n",
    "\n",
    "# class_names = [\" PA \", \" PC \", \" PE \", \" PP \", \" PS \",\" POM \",\" PVC \",\" PET \",\" PU \",\" ABS \",\" PE-LD \",\" SAN \"]\n",
    "# plot_confusion_matrix(mlp, x_test, y_test,display_labels=class_names,xticks_rotation=degrees,cmap=plt.cm.Blues)\n",
    "# plt.title(\"MLP_Classifier_Combination:\" + str(name))\n",
    "# print(\"Combination:\" + str(name) +\"  Accuracy: \" + str(accuracy) +  \"\\nPrecision: \"+ str(precision)+\"  Recall: \"+ str(recall)  + \"  F1-SCORE: \"+ str(F1_SCORE))\n",
    "# print(\"Combination:\" + str(name) +\"  Accuracy_Matrix: \" + str(ACC1) +  \"\\nPrecision_Matrix: \"+ str(precision1) +\"\\n  Recall_MAtrix: \"+ str(recall1) + \"\\n F1-SCORE_Matrix: \"+ str(F1_SCORE1))\n",
    "\n",
    "# plt.savefig(\"phy_000.png\")\n",
    "# #plt.savefig(r'C:\\pyyy\\auswertung\\polymers\\MLP_without_early_stopping\\\\' +name+\"_mlp_classifier_without_early_stopping.png\")"
   ]
  },
  {
   "cell_type": "code",
   "execution_count": 153,
   "id": "ef62b33c",
   "metadata": {},
   "outputs": [
    {
     "ename": "NameError",
     "evalue": "name 'model' is not defined",
     "output_type": "error",
     "traceback": [
      "\u001b[1;31m---------------------------------------------------------------------------\u001b[0m",
      "\u001b[1;31mNameError\u001b[0m                                 Traceback (most recent call last)",
      "\u001b[1;32m~\\AppData\\Local\\Temp\\ipykernel_19604\\1367055607.py\u001b[0m in \u001b[0;36m<module>\u001b[1;34m\u001b[0m\n\u001b[0;32m      2\u001b[0m \u001b[0mpredictions_test\u001b[0m \u001b[1;33m=\u001b[0m  \u001b[1;33m[\u001b[0m\u001b[1;33m]\u001b[0m\u001b[1;33m\u001b[0m\u001b[1;33m\u001b[0m\u001b[0m\n\u001b[0;32m      3\u001b[0m \u001b[1;32mwith\u001b[0m \u001b[0mtorch\u001b[0m\u001b[1;33m.\u001b[0m\u001b[0mno_grad\u001b[0m\u001b[1;33m(\u001b[0m\u001b[1;33m)\u001b[0m\u001b[1;33m:\u001b[0m\u001b[1;33m\u001b[0m\u001b[1;33m\u001b[0m\u001b[0m\n\u001b[1;32m----> 4\u001b[1;33m     \u001b[0mpredictions_train\u001b[0m \u001b[1;33m=\u001b[0m \u001b[0mmodel\u001b[0m\u001b[1;33m(\u001b[0m\u001b[0mX_train\u001b[0m\u001b[1;33m)\u001b[0m\u001b[1;33m\u001b[0m\u001b[1;33m\u001b[0m\u001b[0m\n\u001b[0m\u001b[0;32m      5\u001b[0m     \u001b[0mpredictions_test\u001b[0m \u001b[1;33m=\u001b[0m \u001b[0mmodel\u001b[0m\u001b[1;33m(\u001b[0m\u001b[0mX_test\u001b[0m\u001b[1;33m)\u001b[0m\u001b[1;33m\u001b[0m\u001b[1;33m\u001b[0m\u001b[0m\n",
      "\u001b[1;31mNameError\u001b[0m: name 'model' is not defined"
     ]
    }
   ],
   "source": [
    "predictions_train = []\n",
    "predictions_test =  []\n",
    "with torch.no_grad():\n",
    "    predictions_train = model(X_train)\n",
    "    predictions_test = model(X_test)"
   ]
  },
  {
   "cell_type": "code",
   "execution_count": null,
   "id": "a7008b73",
   "metadata": {},
   "outputs": [],
   "source": [
    "def get_accuracy_multiclass(pred_arr,original_arr):\n",
    "    if len(pred_arr)!=len(original_arr):\n",
    "        return False\n",
    "    pred_arr = pred_arr.numpy()\n",
    "    original_arr = original_arr.numpy()\n",
    "    final_pred= []\n",
    "    # we will get something like this in the pred_arr [32.1680,12.9350,-58.4877]\n",
    "    # so will be taking the index of that argument which has the highest value here 32.1680 which corresponds to 0th index\n",
    "    for i in range(len(pred_arr)):\n",
    "        final_pred.append(np.argmax(pred_arr[i]))\n",
    "    final_pred = np.array(final_pred)\n",
    "    count = 0\n",
    "    #here we are doing a simple comparison between the predicted_arr and the original_arr to get the final accuracy\n",
    "    for i in range(len(original_arr)):\n",
    "        if final_pred[i] == original_arr[i]:\n",
    "            count+=1\n",
    "    return count/len(final_pred)"
   ]
  },
  {
   "cell_type": "code",
   "execution_count": null,
   "id": "a9191d57",
   "metadata": {},
   "outputs": [],
   "source": [
    "train_acc = get_accuracy_multiclass(predictions_train,y_train)\n",
    "test_acc  = get_accuracy_multiclass(predictions_test,y_test)"
   ]
  },
  {
   "cell_type": "code",
   "execution_count": null,
   "id": "a1676980",
   "metadata": {},
   "outputs": [],
   "source": [
    "print(f\"Training Accuracy: {round(train_acc*100,3)}\")\n",
    "print(f\"Test Accuracy: {round(test_acc*100,3)}\")"
   ]
  }
 ],
 "metadata": {
  "kernelspec": {
   "display_name": "Python 3 (ipykernel)",
   "language": "python",
   "name": "python3"
  },
  "language_info": {
   "codemirror_mode": {
    "name": "ipython",
    "version": 3
   },
   "file_extension": ".py",
   "mimetype": "text/x-python",
   "name": "python",
   "nbconvert_exporter": "python",
   "pygments_lexer": "ipython3",
   "version": "3.9.13"
  }
 },
 "nbformat": 4,
 "nbformat_minor": 5
}
