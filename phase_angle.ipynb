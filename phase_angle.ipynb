{
 "cells": [
  {
   "cell_type": "code",
   "execution_count": null,
   "id": "0892db63",
   "metadata": {},
   "outputs": [],
   "source": [
    "import numpy as np\n",
    "import pandas as pd\n",
    "import os\n",
    "import cv2\n",
    "# 'def computation(polymer):'\n",
    "src_dir=os.path.join(f\"D:/numpy_files/ABS/\") #E:\\Rapid-FLIM_Polymer2\n",
    "samples=os.listdir(src_dir)\n",
    "list0=[]\n",
    "list1=[]\n",
    "list2=[]\n",
    "list3=[]\n",
    "list4=[]\n",
    "for i in samples:\n",
    "    #if i.split('.')[0][-3:]=='070':\n",
    "    polymer_name=i.split('_RF')[0] #ABS_M01_RF000.npy\n",
    "    img=np.load(src_dir+i)\n",
    "    ni=img[0:1,:,:]\n",
    "    n= img[1:2,:,:]\n",
    "    nd = cv2.GaussianBlur(n, (13, 13), 0)\n",
    "    mean_ni=np.mean(np.abs(ni))\n",
    "    std_dev_ni=np.std(ni)\n",
    "\n",
    "    mean_nd=np.mean(np.abs(nd))\n",
    "    std_dev_nd=np.std(nd)\n",
    "    list0.append(polymer_name)\n",
    "    list1.append(mean_ni)\n",
    "    list2.append(std_dev_ni)\n",
    "    list3.append(mean_nd)\n",
    "    list4.append(std_dev_nd)\n",
    "col0= \"polymer\"\n",
    "col1=\"mean(ni)\"\n",
    "col2=\"standard_deviation(ni)\"\n",
    "col3=\"mean(nd)\"\n",
    "col4=\"standard_deviation(nd)\"\n",
    "data=pd.DataFrame({col0:list0,col1:list1,col2:list2,col3:list3,col4:list4})\n",
    "data.to_excel(\"n.xlsx\",sheet_name=\"sheet\",index=False,header=True)\n",
    "print('process complete')\n",
    "    \n",
    "# polymer=input('Enter polymer name= ')\n",
    "# computation(polymer)"
   ]
  }
 ],
 "metadata": {
  "kernelspec": {
   "display_name": "Python 3 (ipykernel)",
   "language": "python",
   "name": "python3"
  },
  "language_info": {
   "codemirror_mode": {
    "name": "ipython",
    "version": 3
   },
   "file_extension": ".py",
   "mimetype": "text/x-python",
   "name": "python",
   "nbconvert_exporter": "python",
   "pygments_lexer": "ipython3",
   "version": "3.9.13"
  }
 },
 "nbformat": 4,
 "nbformat_minor": 5
}
