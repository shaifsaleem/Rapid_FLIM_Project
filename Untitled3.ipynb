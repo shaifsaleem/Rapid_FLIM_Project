{
 "cells": [
  {
   "cell_type": "code",
   "execution_count": 1,
   "id": "9e9ab58a",
   "metadata": {},
   "outputs": [
    {
     "ename": "ModuleNotFoundError",
     "evalue": "No module named 'Computer_Vision'",
     "output_type": "error",
     "traceback": [
      "\u001b[1;31m---------------------------------------------------------------------------\u001b[0m",
      "\u001b[1;31mModuleNotFoundError\u001b[0m                       Traceback (most recent call last)",
      "\u001b[1;32m~\\AppData\\Local\\Temp\\ipykernel_14536\\316409227.py\u001b[0m in \u001b[0;36m<module>\u001b[1;34m\u001b[0m\n\u001b[0;32m      3\u001b[0m \u001b[1;32mimport\u001b[0m \u001b[0margparse\u001b[0m\u001b[1;33m\u001b[0m\u001b[1;33m\u001b[0m\u001b[0m\n\u001b[0;32m      4\u001b[0m \u001b[1;32mimport\u001b[0m \u001b[0mmatplotlib\u001b[0m\u001b[1;33m.\u001b[0m\u001b[0mpyplot\u001b[0m \u001b[1;32mas\u001b[0m \u001b[0mplt\u001b[0m\u001b[1;33m\u001b[0m\u001b[1;33m\u001b[0m\u001b[0m\n\u001b[1;32m----> 5\u001b[1;33m \u001b[1;32mfrom\u001b[0m \u001b[0mComputer_Vision\u001b[0m\u001b[1;33m.\u001b[0m\u001b[0mSobel_Edge_Detection\u001b[0m\u001b[1;33m.\u001b[0m\u001b[0mconvolution\u001b[0m \u001b[1;32mimport\u001b[0m \u001b[0mconvolution\u001b[0m\u001b[1;33m\u001b[0m\u001b[1;33m\u001b[0m\u001b[0m\n\u001b[0m\u001b[0;32m      6\u001b[0m \u001b[1;32mfrom\u001b[0m \u001b[0mComputer_Vision\u001b[0m\u001b[1;33m.\u001b[0m\u001b[0mSobel_Edge_Detection\u001b[0m\u001b[1;33m.\u001b[0m\u001b[0mgaussian_smoothing\u001b[0m \u001b[1;32mimport\u001b[0m \u001b[0mgaussian_blur\u001b[0m\u001b[1;33m\u001b[0m\u001b[1;33m\u001b[0m\u001b[0m\n\u001b[0;32m      7\u001b[0m \u001b[1;33m\u001b[0m\u001b[0m\n",
      "\u001b[1;31mModuleNotFoundError\u001b[0m: No module named 'Computer_Vision'"
     ]
    }
   ],
   "source": [
    "import numpy as np\n",
    "import cv2\n",
    "import argparse\n",
    "import matplotlib.pyplot as plt\n",
    "from Computer_Vision.Sobel_Edge_Detection.convolution import convolution\n",
    "from Computer_Vision.Sobel_Edge_Detection.gaussian_smoothing import gaussian_blur\n",
    " \n",
    " \n",
    "def sobel_edge_detection(image, filter, verbose=False):\n",
    "    new_image_x = convolution(image, filter, verbose)\n",
    " \n",
    "    if verbose:\n",
    "        plt.imshow(new_image_x, cmap='gray')\n",
    "        plt.title(\"Horizontal Edge\")\n",
    "        plt.show()\n",
    " \n",
    "    new_image_y = convolution(image, np.flip(filter.T, axis=0), verbose)\n",
    " \n",
    "    if verbose:\n",
    "        plt.imshow(new_image_y, cmap='gray')\n",
    "        plt.title(\"Vertical Edge\")\n",
    "        plt.show()\n",
    " \n",
    "    gradient_magnitude = np.sqrt(np.square(new_image_x) + np.square(new_image_y))\n",
    " \n",
    "    gradient_magnitude *= 255.0 / gradient_magnitude.max()\n",
    " \n",
    "    if verbose:\n",
    "        plt.imshow(gradient_magnitude, cmap='gray')\n",
    "        plt.title(\"Gradient Magnitude\")\n",
    "        plt.show()\n",
    " \n",
    "    return gradient_magnitude\n",
    " \n",
    " \n",
    "if __name__ == '__main__':\n",
    "    filter = np.load('ABS_M01_RF000')\n",
    " \n",
    "    ap = argparse.ArgumentParser()\n",
    "    ap.add_argument(\"-i\", \"--image\", required=True, help=\"Path to the image\")\n",
    "    args = vars(ap.parse_args())\n",
    " \n",
    "    image = cv2.imread(args[\"image\"])\n",
    "    image = gaussian_blur(image, 9, verbose=True)\n",
    "    sobel_edge_detection(image, filter, verbose=True)"
   ]
  },
  {
   "cell_type": "code",
   "execution_count": null,
   "id": "4c3f22fc",
   "metadata": {},
   "outputs": [
    {
     "name": "stdout",
     "output_type": "stream",
     "text": [
      "enter polymer name and exposure timeABS 800\n",
      "ABS completed\n"
     ]
    }
   ],
   "source": [
    "for k in range(12):\n",
    "        s= input ('enter polymer name and exposure time')\n",
    "        t= s.split(' ')[0]  #name\n",
    "        u= s.split(' ')[1]\n",
    "        print('{} completed'.format(t))"
   ]
  },
  {
   "cell_type": "code",
   "execution_count": null,
   "id": "6d764c8b",
   "metadata": {},
   "outputs": [],
   "source": []
  }
 ],
 "metadata": {
  "kernelspec": {
   "display_name": "Python 3 (ipykernel)",
   "language": "python",
   "name": "python3"
  },
  "language_info": {
   "codemirror_mode": {
    "name": "ipython",
    "version": 3
   },
   "file_extension": ".py",
   "mimetype": "text/x-python",
   "name": "python",
   "nbconvert_exporter": "python",
   "pygments_lexer": "ipython3",
   "version": "3.9.13"
  }
 },
 "nbformat": 4,
 "nbformat_minor": 5
}
