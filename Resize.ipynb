{
 "cells": [
  {
   "cell_type": "code",
   "execution_count": 4,
   "id": "6165d69b",
   "metadata": {},
   "outputs": [],
   "source": [
    "import cv2\n",
    "import numpy as np\n",
    "im=np.load('D:\\\\new_np\\\\ABS\\\\ABS_M02_RF070.npy')\n",
    "\n",
    "img=im[0,:,:]\n",
    "# img = cv2.GaussianBlur(img, (3, 3), 0)\n",
    "scale=3\n",
    "width=int(img.shape[0]*scale)\n",
    "height=int(img.shape[1]*scale)\n",
    "dim=(width,height)\n",
    "img_resized=cv2.resize(img, dim, interpolation=cv2.INTER_LINEAR)\n",
    "#canny=cv2.Canny(img,125,175)\n",
    "cv2.imshow('Original',img)\n",
    "\n",
    "cv2.imshow('Resized',img_resized)\n",
    "# cv2.imshow('Canny Edges',canny)\n",
    "cv2.waitKey(0)\n",
    "cv2.destroyAllWindows()"
   ]
  },
  {
   "cell_type": "code",
   "execution_count": 5,
   "id": "4a8fb054",
   "metadata": {},
   "outputs": [
    {
     "data": {
      "text/plain": [
       "0.09103567722639322"
      ]
     },
     "execution_count": 5,
     "metadata": {},
     "output_type": "execute_result"
    }
   ],
   "source": [
    "np.median(img)"
   ]
  },
  {
   "cell_type": "code",
   "execution_count": 1,
   "id": "d397c907",
   "metadata": {},
   "outputs": [
    {
     "name": "stdout",
     "output_type": "stream",
     "text": [
      "^C\n"
     ]
    }
   ],
   "source": [
    "!pip install tensorflow"
   ]
  },
  {
   "cell_type": "code",
   "execution_count": null,
   "id": "d7646dde",
   "metadata": {},
   "outputs": [],
   "source": [
    "import tensorflow "
   ]
  }
 ],
 "metadata": {
  "kernelspec": {
   "display_name": "Python 3 (ipykernel)",
   "language": "python",
   "name": "python3"
  },
  "language_info": {
   "codemirror_mode": {
    "name": "ipython",
    "version": 3
   },
   "file_extension": ".py",
   "mimetype": "text/x-python",
   "name": "python",
   "nbconvert_exporter": "python",
   "pygments_lexer": "ipython3",
   "version": "3.9.13"
  }
 },
 "nbformat": 4,
 "nbformat_minor": 5
}
