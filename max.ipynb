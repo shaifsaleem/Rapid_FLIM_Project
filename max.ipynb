{
 "cells": [
  {
   "cell_type": "code",
   "execution_count": 31,
   "id": "9cf796bf",
   "metadata": {},
   "outputs": [],
   "source": [
    "from scipy import stats as st\n",
    "import numpy as np\n",
    "import os\n",
    "import cv2\n",
    "import pandas as pd\n",
    "import matplotlib.pyplot as plt\n",
    "\n",
    "def extract_features(ni, nid):\n",
    "    \n",
    "                         \n",
    "    arr = np.empty((1, 12))\n",
    "    r_i, r_id = np.nanmax(ni) - np.nanmin(ni), np.nanmax(nid) - np.nanmin(nid)\n",
    "    q3, q1 = np.percentile(ni, [75, 25])\n",
    "    iqr_i = q3 - q1\n",
    "    q3, q1 = np.percentile(nid, [75, 25])\n",
    "    iqr_id = q3 - q1\n",
    "    arr[0, :] = np.array([np.nanmean(ni), np.nanmedian(ni), np.nanvar(ni), np.nanstd(ni), r_i, iqr_i,np.nanmean(nid), np.nanmedian(nid), np.nanvar(nid), np.nanstd(nid), r_id, iqr_id])\n",
    "    return arr\n"
   ]
  },
  {
   "cell_type": "code",
   "execution_count": 32,
   "id": "33ce65f3",
   "metadata": {},
   "outputs": [
    {
     "data": {
      "text/plain": [
       "array([[ 1.11065781e-02,  1.06726485e-02,  2.73276197e-06,\n",
       "         1.65310676e-03,  3.45754746e-02,  1.47103705e-03,\n",
       "        -5.94129994e-02, -6.39437781e-02,  1.64705807e-02,\n",
       "         1.28337760e-01,  1.37464877e+00,  1.56038840e-01]])"
      ]
     },
     "execution_count": 32,
     "metadata": {},
     "output_type": "execute_result"
    }
   ],
   "source": [
    "root_dir='D:/new_np/'\n",
    "for polymer_name in os.listdir(root_dir):\n",
    "    for image in os.listdir(os.path.join(root_dir,polymer_name)):\n",
    "        img=np.load(root_dir+polymer_name+'/'+image)\n",
    "        ni=img[0,:,:]\n",
    "        nid=img[1,:,:]\n",
    "extract_features(ni, nid)\n"
   ]
  },
  {
   "cell_type": "code",
   "execution_count": 33,
   "id": "f3dabb60",
   "metadata": {},
   "outputs": [
    {
     "ename": "NameError",
     "evalue": "name 'arr' is not defined",
     "output_type": "error",
     "traceback": [
      "\u001b[1;31m---------------------------------------------------------------------------\u001b[0m",
      "\u001b[1;31mNameError\u001b[0m                                 Traceback (most recent call last)",
      "\u001b[1;32m~\\AppData\\Local\\Temp\\ipykernel_18172\\3418240484.py\u001b[0m in \u001b[0;36m<module>\u001b[1;34m\u001b[0m\n\u001b[1;32m----> 1\u001b[1;33m \u001b[0marr\u001b[0m\u001b[1;33m\u001b[0m\u001b[1;33m\u001b[0m\u001b[0m\n\u001b[0m",
      "\u001b[1;31mNameError\u001b[0m: name 'arr' is not defined"
     ]
    }
   ],
   "source": [
    "arr"
   ]
  },
  {
   "cell_type": "code",
   "execution_count": null,
   "id": "19ef9b72",
   "metadata": {},
   "outputs": [],
   "source": []
  }
 ],
 "metadata": {
  "kernelspec": {
   "display_name": "Python 3 (ipykernel)",
   "language": "python",
   "name": "python3"
  },
  "language_info": {
   "codemirror_mode": {
    "name": "ipython",
    "version": 3
   },
   "file_extension": ".py",
   "mimetype": "text/x-python",
   "name": "python",
   "nbconvert_exporter": "python",
   "pygments_lexer": "ipython3",
   "version": "3.9.13"
  }
 },
 "nbformat": 4,
 "nbformat_minor": 5
}
