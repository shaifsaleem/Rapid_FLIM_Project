{
 "cells": [
  {
   "cell_type": "code",
   "execution_count": 78,
   "id": "44c4093e",
   "metadata": {},
   "outputs": [],
   "source": [
    "import numpy as np"
   ]
  },
  {
   "cell_type": "code",
   "execution_count": 79,
   "id": "f6822a7a",
   "metadata": {},
   "outputs": [],
   "source": [
    "img=np.load('D:new_np/PA/PA_M02_RF085.npy')"
   ]
  },
  {
   "cell_type": "code",
   "execution_count": 80,
   "id": "8b4ff091",
   "metadata": {},
   "outputs": [],
   "source": [
    "img=img[1,:,:]"
   ]
  },
  {
   "cell_type": "code",
   "execution_count": 81,
   "id": "40a4ebd5",
   "metadata": {},
   "outputs": [
    {
     "data": {
      "text/plain": [
       "array([[-0.12523937, -0.4975029 , -0.28623566, ..., -0.0270936 ,\n",
       "        -0.09017806,  0.16057839],\n",
       "       [-0.49057751, -0.50848608, -0.53803042, ..., -0.07692308,\n",
       "        -0.13950617, -0.00938628],\n",
       "       [-0.10385757, -0.15935057, -0.10415412, ..., -0.3677028 ,\n",
       "         0.32404891, -0.1653638 ],\n",
       "       ...,\n",
       "       [-0.07322654, -0.49073171, -0.21409922, ...,  0.15421003,\n",
       "         0.52039967, -0.41576507],\n",
       "       [-0.09215798, -0.07609861, -0.32587287, ..., -0.36495084,\n",
       "        -0.33538461, -0.43017726],\n",
       "       [-0.23378582, -0.16683622, -0.16707258, ...,  0.04680187,\n",
       "        -0.16970547, -0.32887975]])"
      ]
     },
     "execution_count": 81,
     "metadata": {},
     "output_type": "execute_result"
    }
   ],
   "source": [
    "img"
   ]
  },
  {
   "cell_type": "code",
   "execution_count": 68,
   "id": "ecaeb0d4",
   "metadata": {},
   "outputs": [],
   "source": [
    "img_flatten=img.flatten()"
   ]
  },
  {
   "cell_type": "code",
   "execution_count": 69,
   "id": "ffc32494",
   "metadata": {},
   "outputs": [
    {
     "data": {
      "text/plain": [
       "array([-0.12523937, -0.4975029 , -0.28623566, ...,  0.04680187,\n",
       "       -0.16970547, -0.32887975])"
      ]
     },
     "execution_count": 69,
     "metadata": {},
     "output_type": "execute_result"
    }
   ],
   "source": [
    "img_flatten"
   ]
  },
  {
   "cell_type": "code",
   "execution_count": 70,
   "id": "6dbd8310",
   "metadata": {},
   "outputs": [],
   "source": [
    "# for i in img_flatten:\n",
    "#     count=len(i[i<0.1])\n",
    "#     print(count)"
   ]
  },
  {
   "cell_type": "code",
   "execution_count": 71,
   "id": "fc7314a1",
   "metadata": {},
   "outputs": [],
   "source": [
    "length=len(img_flatten)"
   ]
  },
  {
   "cell_type": "code",
   "execution_count": 72,
   "id": "2030e810",
   "metadata": {},
   "outputs": [
    {
     "data": {
      "text/plain": [
       "1016064"
      ]
     },
     "execution_count": 72,
     "metadata": {},
     "output_type": "execute_result"
    }
   ],
   "source": [
    "length\n"
   ]
  },
  {
   "cell_type": "code",
   "execution_count": 73,
   "id": "985664f1",
   "metadata": {},
   "outputs": [
    {
     "name": "stdout",
     "output_type": "stream",
     "text": [
      "count=  5093\n"
     ]
    }
   ],
   "source": [
    "lis=[]\n",
    "for i in img_flatten:\n",
    "    if i<-0.75:\n",
    "        lis.append(str(i))\n",
    "#print('array= ',lis)        \n",
    "print('count= ',len(lis))"
   ]
  },
  {
   "cell_type": "code",
   "execution_count": 82,
   "id": "03c0c0dc",
   "metadata": {},
   "outputs": [
    {
     "ename": "TypeError",
     "evalue": "To_find_pixel_count() missing 1 required positional argument: 'intensity_threshold'",
     "output_type": "error",
     "traceback": [
      "\u001b[1;31m---------------------------------------------------------------------------\u001b[0m",
      "\u001b[1;31mTypeError\u001b[0m                                 Traceback (most recent call last)",
      "\u001b[1;32m~\\AppData\\Local\\Temp\\ipykernel_18100\\2972199545.py\u001b[0m in \u001b[0;36m<module>\u001b[1;34m\u001b[0m\n\u001b[0;32m     12\u001b[0m             \u001b[0mcount\u001b[0m\u001b[1;33m=\u001b[0m\u001b[0mcount\u001b[0m\u001b[1;33m+\u001b[0m\u001b[1;36m1\u001b[0m\u001b[1;33m\u001b[0m\u001b[1;33m\u001b[0m\u001b[0m\n\u001b[0;32m     13\u001b[0m     \u001b[1;32mreturn\u001b[0m \u001b[0mprint\u001b[0m\u001b[1;33m(\u001b[0m\u001b[1;34mf'No of pixel intensities great than {intensity_threshold} is: '\u001b[0m\u001b[1;33m,\u001b[0m\u001b[0mcount\u001b[0m\u001b[1;33m)\u001b[0m\u001b[1;33m\u001b[0m\u001b[1;33m\u001b[0m\u001b[0m\n\u001b[1;32m---> 14\u001b[1;33m \u001b[0mTo_find_pixel_count\u001b[0m\u001b[1;33m(\u001b[0m\u001b[1;33m-\u001b[0m\u001b[1;36m0.75\u001b[0m\u001b[1;33m)\u001b[0m\u001b[1;33m\u001b[0m\u001b[1;33m\u001b[0m\u001b[0m\n\u001b[0m",
      "\u001b[1;31mTypeError\u001b[0m: To_find_pixel_count() missing 1 required positional argument: 'intensity_threshold'"
     ]
    }
   ],
   "source": [
    "import numpy as np\n",
    "import os\n",
    "root_dir='D:new_np/'\n",
    "def To_find_pixel_count(polymer,intensity_threshold):\n",
    "    list=os.listdir(os.path.join(root_dir,polymer))\n",
    "    img=np.load()\n",
    "    img=img[1,:,:]\n",
    "    img_flatten=img.flatten()\n",
    "    count=0\n",
    "    for i in img_flatten:\n",
    "        if i<intensity_threshold:\n",
    "            count=count+1\n",
    "    return print(f'No of pixel intensities great than {intensity_threshold} is: ',count)\n",
    "To_find_pixel_count(-0.75)"
   ]
  },
  {
   "cell_type": "code",
   "execution_count": 60,
   "id": "c8f29bf6",
   "metadata": {},
   "outputs": [
    {
     "name": "stdout",
     "output_type": "stream",
     "text": [
      "tensor([[0.5833, 0.6033, 0.5727],\n",
      "        [0.6153, 0.1173, 0.5625],\n",
      "        [0.0663, 0.5105, 0.5476],\n",
      "        [0.5625, 0.5505, 0.8597],\n",
      "        [0.2181, 0.9214, 0.9505]])\n"
     ]
    }
   ],
   "source": []
  },
  {
   "cell_type": "code",
   "execution_count": null,
   "id": "d96da6f7",
   "metadata": {},
   "outputs": [],
   "source": []
  }
 ],
 "metadata": {
  "kernelspec": {
   "display_name": "Python 3 (ipykernel)",
   "language": "python",
   "name": "python3"
  },
  "language_info": {
   "codemirror_mode": {
    "name": "ipython",
    "version": 3
   },
   "file_extension": ".py",
   "mimetype": "text/x-python",
   "name": "python",
   "nbconvert_exporter": "python",
   "pygments_lexer": "ipython3",
   "version": "3.9.13"
  }
 },
 "nbformat": 4,
 "nbformat_minor": 5
}
