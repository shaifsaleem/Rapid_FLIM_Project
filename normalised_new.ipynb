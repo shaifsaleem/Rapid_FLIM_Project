{
 "cells": [
  {
   "cell_type": "code",
   "execution_count": null,
   "id": "6836cd95",
   "metadata": {
    "scrolled": true
   },
   "outputs": [
    {
     "name": "stdout",
     "output_type": "stream",
     "text": [
      "enter polymer name and exposure time: PA 1200\n",
      "['PA'] completed\n"
     ]
    }
   ],
   "source": [
    "import numpy as np\n",
    "import pandas as pd\n",
    "import os\n",
    "from scipy import stats\n",
    "list0=[]\n",
    "list1=[]\n",
    "list2=[]\n",
    "list3=[]\n",
    "list4=[]\n",
    "list5=[]\n",
    "list6=[]\n",
    "list7=[]\n",
    "list8=[]\n",
    "list9=[]\n",
    "list10=[]\n",
    "list11=[]\n",
    "list12=[]\n",
    "po=[]\n",
    "\n",
    "\n",
    "for k in range(12):\n",
    "    s= input ('enter polymer name and exposure time: ')\n",
    "    t= s.split(' ')[0]  #name\n",
    "    u= s.split(' ')[1]  #exposure time\n",
    "#     polymer=os.listdir('E:/Rapid-FLIM_Polymer2/')\n",
    "#     polymer=['ABS','PVC']\n",
    "#     for j in polymer:\n",
    "\n",
    "    src_dir=os.path.join(f'E:/Rapid-FLIM_Polymer3/{t}/') #E:\\Rapid-FLIM_Polymer2\n",
    "    samples=os.listdir(src_dir)\n",
    "\n",
    "    for i in samples:\n",
    "        if i.split('.')[0][-3:]=='080':\n",
    "            polymer_name=i.split('_')[0] #ABS_M01_RF000.npy\n",
    "            img=np.load(src_dir+i)\n",
    "            ni=img[0,:,:]\n",
    "            ni=ni*2000/int(u)\n",
    "            nid= img[1,:,:]\n",
    "            \n",
    "            mean_ni , mean_nid = np.mean(ni) , np.mean(nid)\n",
    "            median_ni , median_nid = np.median(ni) , np.median(nid)\n",
    "            std_dev_ni , std_dev_nid = np.std(ni) , np.std(nid)\n",
    "            var_ni , var_nid= np.var(ni) , np.var(nid)\n",
    "            iqr_ni , iqr_nid = stats.iqr(ni, interpolation = 'midpoint') , stats.iqr(nid, interpolation = 'midpoint')\n",
    "            r_ni, r_nid = np.nanmax(ni) - np.nanmin(ni) , np.nanmax(nid) - np.nanmin(nid)\n",
    "            \n",
    "            po.append(polymer_name)\n",
    "            list1.append(mean_ni)\n",
    "            list2.append(std_dev_ni)\n",
    "            list3.append(var_ni)\n",
    "            list4.append(iqr_ni)\n",
    "            list5.append(median_ni)\n",
    "            list6.append(r_ni)\n",
    "            \n",
    "            list7.append(mean_nid)\n",
    "            list8.append(std_dev_nid)\n",
    "            list9.append(var_nid)\n",
    "            list10.append(iqr_nid)\n",
    "            list11.append(median_nid)\n",
    "            list12.append(r_nid)\n",
    "            \n",
    "    list0.append(t)\n",
    "    print('{} completed'.format(list0))\n",
    "\n",
    "# col0= 'polymer'\n",
    "# col1='mean(ni)'\n",
    "# col2='standard_deviation(ni)'\n",
    "# col3='variance(ni)'\n",
    "# col4='iqr(ni)'\n",
    "# col5='median(ni)'\n",
    "# col6='range(ni)'\n",
    "\n",
    "# col7='mean(nid)'\n",
    "# col8='standard_deviation(nid)'\n",
    "# col9='variance(nid)'\n",
    "# col10='iqr(nid)'\n",
    "# col11='median(nid)'\n",
    "# col12='range(nid)'\n",
    "data=pd.DataFrame({'polymer':po,'mean(ni)':list1,'median(ni)':list5,'standard_deviation(ni)':list2,'variance(ni)':list3,'iqr(ni)':list4,'range(ni)':list6,'mean(nid)':list7,'median(nid)':list11,'standard_deviation(nid)':list8,'variance(nid)':list9,'iqr(nid)':list10,'range(nid)':list12})\n",
    "data.to_csv('phi_080_new_data.csv',index=True,header=True)\n",
    "print('process complete')\n",
    "    \n",
    "# polymer=input('Enter polymer name= ')\n",
    "# computation(polymer)"
   ]
  },
  {
   "cell_type": "code",
   "execution_count": 22,
   "id": "90fcc0f8",
   "metadata": {},
   "outputs": [],
   "source": [
    "import numpy as np\n",
    "x = np.array([[4,2,3], [1,0,3]])\n",
    "index_array = np.argmax(x, axis=-1)"
   ]
  },
  {
   "cell_type": "code",
   "execution_count": 23,
   "id": "4fba22b2",
   "metadata": {},
   "outputs": [
    {
     "data": {
      "text/plain": [
       "array([[4, 2, 3],\n",
       "       [1, 0, 3]])"
      ]
     },
     "execution_count": 23,
     "metadata": {},
     "output_type": "execute_result"
    }
   ],
   "source": [
    "x"
   ]
  },
  {
   "cell_type": "code",
   "execution_count": 24,
   "id": "7fb6de88",
   "metadata": {},
   "outputs": [
    {
     "data": {
      "text/plain": [
       "(2, 3)"
      ]
     },
     "execution_count": 24,
     "metadata": {},
     "output_type": "execute_result"
    }
   ],
   "source": [
    "x.shape"
   ]
  },
  {
   "cell_type": "code",
   "execution_count": 25,
   "id": "74d359cc",
   "metadata": {},
   "outputs": [
    {
     "data": {
      "text/plain": [
       "array([0, 2], dtype=int64)"
      ]
     },
     "execution_count": 25,
     "metadata": {},
     "output_type": "execute_result"
    }
   ],
   "source": [
    "index_array"
   ]
  },
  {
   "cell_type": "code",
   "execution_count": 26,
   "id": "a7d11dfc",
   "metadata": {},
   "outputs": [
    {
     "data": {
      "text/plain": [
       "(2,)"
      ]
     },
     "execution_count": 26,
     "metadata": {},
     "output_type": "execute_result"
    }
   ],
   "source": [
    "index_array.shape"
   ]
  },
  {
   "cell_type": "code",
   "execution_count": null,
   "id": "b8b57d09",
   "metadata": {},
   "outputs": [],
   "source": []
  }
 ],
 "metadata": {
  "kernelspec": {
   "display_name": "Python 3 (ipykernel)",
   "language": "python",
   "name": "python3"
  },
  "language_info": {
   "codemirror_mode": {
    "name": "ipython",
    "version": 3
   },
   "file_extension": ".py",
   "mimetype": "text/x-python",
   "name": "python",
   "nbconvert_exporter": "python",
   "pygments_lexer": "ipython3",
   "version": "3.9.13"
  }
 },
 "nbformat": 4,
 "nbformat_minor": 5
}
