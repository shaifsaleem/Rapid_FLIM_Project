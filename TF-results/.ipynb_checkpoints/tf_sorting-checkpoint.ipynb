{
 "cells": [
  {
   "cell_type": "code",
   "execution_count": 1,
   "metadata": {},
   "outputs": [
    {
     "data": {
      "text/plain": [
       "'C:\\\\Users\\\\shaif\\\\Desktop\\\\Jupyter\\\\TF-results'"
      ]
     },
     "execution_count": 1,
     "metadata": {},
     "output_type": "execute_result"
    }
   ],
   "source": [
    "import os\n",
    "# os.chdir('C:\\\\Users\\\\shaif\\\\Desktop\\\\Jupyter\\\\TF-results')\n",
    "os.getcwd()\n"
   ]
  },
  {
   "cell_type": "code",
   "execution_count": 2,
   "metadata": {},
   "outputs": [],
   "source": [
    "from os import system\n",
    "import matplotlib.pyplot as plt\n",
    "import seaborn as sns\n",
    "from sklearn.neural_network import MLPClassifier\n",
    "from sklearn.model_selection import train_test_split, KFold, cross_val_score,StratifiedKFold\n",
    "from sklearn.metrics import confusion_matrix, plot_confusion_matrix\n",
    "from sklearn.model_selection import GridSearchCV\n",
    "from sklearn.preprocessing import LabelEncoder, StandardScaler, OneHotEncoder\n",
    "from sklearn.metrics import precision_score, recall_score, f1_score, accuracy_score\n",
    "import tensorflow as tf\n",
    "from keras.layers import Dropout\n",
    "import pandas as pd\n",
    "import numpy as np\n",
    "import pickle\n",
    "import sys\n",
    "import itertools\n",
    "import time"
   ]
  },
  {
   "cell_type": "code",
   "execution_count": 3,
   "metadata": {},
   "outputs": [],
   "source": [
    "num_com=[]\n",
    "char_com=[]\n",
    "accuracy_list = []\n",
    "F_score =[]\n",
    "names=[]\n",
    "Time =[]"
   ]
  },
  {
   "cell_type": "code",
   "execution_count": 4,
   "metadata": {},
   "outputs": [
    {
     "ename": "SyntaxError",
     "evalue": "invalid syntax (2106370450.py, line 1)",
     "output_type": "error",
     "traceback": [
      "\u001b[1;36m  File \u001b[1;32m\"C:\\Users\\shaif\\AppData\\Local\\Temp\\ipykernel_12500\\2106370450.py\"\u001b[1;36m, line \u001b[1;32m1\u001b[0m\n\u001b[1;33m    def title(254,255):\u001b[0m\n\u001b[1;37m              ^\u001b[0m\n\u001b[1;31mSyntaxError\u001b[0m\u001b[1;31m:\u001b[0m invalid syntax\n"
     ]
    }
   ],
   "source": [
    "def title(254,255):\n",
    "    name=\"\"\n",
    "    for e in char_com[i]:\n",
    "        name= e+\".\"+name\n",
    "    return(name)\n",
    "\n",
    "def create_model():\n",
    "    model = tf.keras.Sequential([\n",
    "    tf.keras.layers.Dense(units=256, activation='relu'),\n",
    "    tf.keras.layers.Dropout(0.2),  \n",
    "    tf.keras.layers.Dense(units=128, activation='relu'),\n",
    "        \n",
    "    tf.keras.layers.Dense(units=64, activation='relu'),\n",
    "    tf.keras.layers.Dense(units=32, activation='relu'),\n",
    "    tf.keras.layers.Dense(units=12, activation= 'softmax')]) \n",
    "    model.compile(optimizer=tf.keras.optimizers.Adam(learning_rate=0.001),\n",
    "              loss=tf.keras.losses.SparseCategoricalCrossentropy(),\n",
    "              metrics=['accuracy'])\n",
    "    return model\n",
    "\n",
    "class estimator:\n",
    "    _estimator_type = ''\n",
    "    classes_=[]\n",
    "    def __init__(self, model, classes):\n",
    "        self.model = model\n",
    "        self._estimator_type = 'classifier'\n",
    "        self.classes_ = classes\n",
    "    def predict(self, X):\n",
    "        y_prob= self.model.predict(X)\n",
    "        y_pred = y_prob.argmax(axis=1)\n",
    "        return y_pred"
   ]
  },
  {
   "cell_type": "code",
   "execution_count": null,
   "metadata": {},
   "outputs": [],
   "source": [
    "path=\"final_data.csv\"\n",
    "df = pd.read_csv(path)"
   ]
  },
  {
   "cell_type": "code",
   "execution_count": null,
   "metadata": {},
   "outputs": [],
   "source": [
    "features =[2,3,4,7,8,9,10,13]\n",
    "for L in range(1,len(features) + 1):\n",
    "    for subset in itertools.combinations(features, L):\n",
    "        num_com.append(list(subset))\n",
    "\n",
    "\n",
    "features = ['mean(ni)','median(ni)','standard_deviation(ni)','range(ni)','mean(nid)','median(nid)','standard_deviation(nid)','range(nid)']\n",
    "for L in range(1,len(features) + 1):\n",
    "    for subset in itertools.combinations(features, L):\n",
    "        char_com.append(list(subset))\n",
    "\n",
    "le = LabelEncoder()\n",
    "sc = StandardScaler()\n",
    "df['polymer'] = le.fit_transform(df[\"polymer\"])\n",
    "df[df.columns[2:]]=sc.fit_transform(df[df.columns[2:]])\n",
    "Y = df[df.columns[1]].values"
   ]
  },
  {
   "cell_type": "code",
   "execution_count": null,
   "metadata": {},
   "outputs": [],
   "source": [
    "for i in range(1):\n",
    "    start = time.monotonic()\n",
    "    name =title(i)\n",
    "    X = df[df.columns[num_com[i]]].values\n",
    "    callback = tf.keras.callbacks.EarlyStopping(monitor='loss', mode='min', verbose=1, patience=50)   \n",
    "\n",
    "    n_split=5\n",
    "    kf=StratifiedKFold(n_split,random_state=42,shuffle=True)\n",
    "    for train_index,test_index in kf.split(X,Y):\n",
    "        x_train,x_test=X[train_index],X[test_index]\n",
    "        y_train,y_test=Y[train_index],Y[test_index]\n",
    "\n",
    "        model=create_model()\n",
    "        hist=model.fit(x_train, y_train,epochs=200,validation_data=(x_test, y_test),callbacks=[callback])\n",
    "        loss, acc = model.evaluate(x_test, y_test, verbose=2)\n",
    "\n",
    "    class_names = [\" PA \", \" PC \", \" PE \", \" PP \", \" PS \",\" POM \",\" PVC \",\" PET \",\" PU \",\" ABS \",\" PE-LD \",\" SAN \"]\n",
    "    classifier = estimator(model, class_names)\n",
    "    y_pred = model.predict(x_test, batch_size=32, verbose=1)\n",
    "    y_pred_bool = np.argmax(y_pred, axis=1)\n",
    "\n",
    "    Precision=round(precision_score(y_true=y_test, y_pred=y_pred_bool,average='weighted'),2)\n",
    "    Recall=round(recall_score(y_true=y_test, y_pred=y_pred_bool,average='weighted'),2)\n",
    "    Accuracy=round(accuracy_score(y_true=y_test, y_pred=y_pred_bool),2)\n",
    "    F1_SCORE=round(f1_score(y_true=y_test, y_pred=y_pred_bool,average='weighted'),2)\n",
    "    degrees = 35\n",
    "\n",
    "    names.append(name)\n",
    "    accuracy_list.append(Accuracy)\n",
    "    F_score.append(F1_SCORE)\n",
    "\n",
    "    plot=plot_confusion_matrix(estimator=classifier, X=x_test, y_true=y_test,display_labels=class_names,include_values=True,xticks_rotation=degrees,cmap='Greens')\n",
    "    plt.title(\"TensorFlow Combination:\" + str(name))\n",
    "    plt.savefig(\"TF-Confusion-\"+name+\"png\")\n",
    "\n",
    "    acc = hist.history['accuracy']\n",
    "    val_acc = hist.history['val_accuracy']\n",
    "\n",
    "    loss = hist.history['loss']\n",
    "    val_loss = hist.history['val_loss']\n",
    "    epochs_range = range(1,len(loss)+1)\n",
    "\n",
    "    plt.figure(figsize=(20, 10))\n",
    "    plt.subplot(1, 2, 1)\n",
    "    plt.suptitle(str(name))\n",
    "    plt.plot(epochs_range, acc, label='Training Accuracy')\n",
    "    plt.plot(epochs_range, val_acc, label='Validation Accuracy')\n",
    "    plt.legend(loc='lower right')\n",
    "    plt.title('Training and Validation Accuracy')\n",
    "    plt.subplot(1, 2, 2)\n",
    "    plt.plot(epochs_range, loss, label='Training Loss')\n",
    "    plt.plot(epochs_range, val_loss, label='Validation Loss')\n",
    "    plt.legend(loc='upper right')\n",
    "    plt.title('Training and Validation Loss')\n",
    "    plt.savefig(\"TF-Accuracy & Loss curve-\" +name+\"png\")\n",
    "    \n",
    "    end = time.monotonic()\n",
    "    total_time = round((end - start)/60,2)\n",
    "    Time.append(total_time)\n",
    "\n",
    "data=pd.DataFrame({'Name':names,'Accuracy':accuracy_list,'F1_score':F_score,'Time (min)':Time})\n",
    "data.to_excel('TF-Final.xlsx',index=True,header=True)\n",
    "print('process complete')\n",
    "\n",
    "    "
   ]
  },
  {
   "cell_type": "code",
   "execution_count": null,
   "metadata": {},
   "outputs": [],
   "source": []
  }
 ],
 "metadata": {
  "kernelspec": {
   "display_name": "Python 3 (ipykernel)",
   "language": "python",
   "name": "python3"
  },
  "language_info": {
   "codemirror_mode": {
    "name": "ipython",
    "version": 3
   },
   "file_extension": ".py",
   "mimetype": "text/x-python",
   "name": "python",
   "nbconvert_exporter": "python",
   "pygments_lexer": "ipython3",
   "version": "3.9.13"
  },
  "vscode": {
   "interpreter": {
    "hash": "63963b3f4c440940f0b94a3100916033a226cb4f45979123153792d60aa56d6a"
   }
  }
 },
 "nbformat": 4,
 "nbformat_minor": 2
}
