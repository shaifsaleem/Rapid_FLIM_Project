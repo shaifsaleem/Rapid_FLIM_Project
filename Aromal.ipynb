{
 "cells": [
  {
   "cell_type": "code",
   "execution_count": null,
   "id": "505914fd",
   "metadata": {},
   "outputs": [],
   "source": [
    "import glob\n",
    "import tifffile as tiff\n",
    "from PIL import Image\n",
    "import pandas as pd\n",
    "import javabridge\n",
    "import bioformats\n",
    "from nd2reader import ND2Reader\n",
    "\n",
    "def create_dataset_from_nd2_altholz(my_path):\n",
    "\n",
    "    #my_path = r'E:\\Master_Project\\Code'\n",
    "    files = glob.glob(my_path + '/**/**/*.nd2', recursive=True)\n",
    "    files = list(dict.fromkeys(files))\n",
    "    javabridge.start_vm(class_path=bioformats.JARS)\n",
    "    all_data = []\n",
    "    for file in files:\n",
    "        \"\"\" Read all ND2 Files and create a new path \"\"\"\n",
    "        with ND2Reader(file) as images:\n",
    "            classif = []\n",
    "            data = []\n",
    "            name = []\n",
    "            raw = ND2Reader(file).parser._raw_metadata\n",
    "            exposure_time = raw.camera_exposure_time\n",
    "            name_data_struct = file.split('.')[0]\n",
    "            name_data_struct = name_data_struct.split('\\\\')[-1]\n",
    "            name =  name_data_struct\n",
    "            data.append(name)\n",
    "            name = name.split('_')\n",
    "            classification = \"\"\n",
    "\n",
    "            if \"AI\" in name:\n",
    "                classification = \"AI\"\n",
    "                classif = 1\n",
    "            elif \"AII\" in name:\n",
    "                classification = \"AII\"\n",
    "                classif = 0\n",
    "            elif \"AIII\" in name:\n",
    "                classification = \"AIII\"\n",
    "                classif = 0\n",
    "            elif \"AIV\" in name:\n",
    "                classification = \"AIV\"\n",
    "                classif = 0\n",
    "            else:\n",
    "                classification = \"Praep\"\n",
    "\n",
    "            data.append(classification)\n",
    "            data.append(classif)\n",
    "            channels = images.metadata['channels']\n",
    "            i = 0\n",
    "            with bioformats.ImageReader(file) as reader:\n",
    "                values = reader.read()\n",
    "            for channel in channels:\n",
    "                if \"Intensity\" in channel:\n",
    "                    matrix = values[:, :, i]\n",
    "                    matrix = matrix * (1000/int(exposure_time[0]))\n",
    "                    std = matrix.std()\n",
    "                    mean = matrix.mean()\n",
    "                    data.append(std)\n",
    "                    data.append(mean)\n",
    "                elif \"Phase\" in channel:\n",
    "                    matrix = values[:, :, i]\n",
    "                    std = matrix.std()\n",
    "                    mean = matrix.mean()\n",
    "                    data.append(std)\n",
    "                    data.append(mean)\n",
    "                elif \"Modulation\" in channel:\n",
    "                    matrix = values[:, :, i]\n",
    "                    std = matrix.std()\n",
    "                    mean = matrix.mean()\n",
    "                    data.append(std)\n",
    "                    data.append(mean)\n",
    "                elif \"Phase Lifetime\" in channel:\n",
    "                    matrix = values[:, :, i]\n",
    "                    std = matrix.std()\n",
    "                    mean = matrix.mean()\n",
    "                    data.append(std)\n",
    "                    data.append(mean)\n",
    "                elif \"Modulation Lifetime\" in channel:\n",
    "                    matrix = values[:, :, i]\n",
    "                    std = matrix.std()\n",
    "                    mean = matrix.mean()\n",
    "                    data.append(std)\n",
    "                    data.append(mean)\n",
    "                i = i + 1\n",
    "\n",
    "        all_data.append(data)\n",
    "\n",
    "\n",
    "    \n",
    "    columns = [\"Name\",\"classification\",'class', \"intensity_std\", \"intensity_mean\", \"phase_std\", \"phase_mean\", \"mod_std\", \"mod_mean\",\"phase_lifetime_mean\",\"phase_lifetime_std\",\"mod_lifetime_mean\",\"mod_lifetime_std\"]\n",
    "    all_data = pd.DataFrame(data=all_data, columns=columns)\n",
    "    save_path = \"../Neuronale_netze/csv/\"\n",
    "    all_data.to_csv(save_path + \"dataset_405_woodclass_full10.csv\")\n",
    "\n",
    "    javabridge.kill_vm()\n",
    "    \n",
    "def main():\n",
    "    path ='E:\\Master_Project\\Code'\n",
    "    create_dataset_from_nd2_altholz(path)  \n",
    "    \n",
    "           \n",
    "if __name__ == \"__main__\":\n",
    "    main()"
   ]
  },
  {
   "cell_type": "code",
   "execution_count": 3,
   "id": "b044894e",
   "metadata": {},
   "outputs": [
    {
     "data": {
      "text/plain": [
       "[]"
      ]
     },
     "execution_count": 3,
     "metadata": {},
     "output_type": "execute_result"
    }
   ],
   "source": [
    "num_com,char_com,accuracy_list,F_score,recall_list,precision_list,names,Time=[[] for _ in range(8)]\n",
    "Time"
   ]
  },
  {
   "cell_type": "code",
   "execution_count": 2,
   "id": "c5b84de9",
   "metadata": {},
   "outputs": [
    {
     "name": "stdout",
     "output_type": "stream",
     "text": [
      "[]\n",
      "[]\n",
      "[]\n"
     ]
    }
   ],
   "source": [
    "list1, list2, list3 = ([] for _ in range(3))\n",
    "print(list1)  # 👉️ []\n",
    "print(list2)  # 👉️ []\n",
    "print(list3)  # 👉️ []"
   ]
  },
  {
   "cell_type": "code",
   "execution_count": null,
   "id": "fc839a16",
   "metadata": {},
   "outputs": [],
   "source": []
  }
 ],
 "metadata": {
  "kernelspec": {
   "display_name": "Python 3 (ipykernel)",
   "language": "python",
   "name": "python3"
  },
  "language_info": {
   "codemirror_mode": {
    "name": "ipython",
    "version": 3
   },
   "file_extension": ".py",
   "mimetype": "text/x-python",
   "name": "python",
   "nbconvert_exporter": "python",
   "pygments_lexer": "ipython3",
   "version": "3.9.13"
  }
 },
 "nbformat": 4,
 "nbformat_minor": 5
}
